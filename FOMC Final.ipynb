{
 "cells": [
  {
   "cell_type": "code",
   "execution_count": 84,
   "metadata": {},
   "outputs": [
    {
     "name": "stdout",
     "output_type": "stream",
     "text": [
      "Populating the interactive namespace from numpy and matplotlib\n"
     ]
    },
    {
     "name": "stderr",
     "output_type": "stream",
     "text": [
      "/anaconda3/lib/python3.6/site-packages/IPython/core/magics/pylab.py:160: UserWarning: pylab import has clobbered these variables: ['datetime']\n",
      "`%matplotlib` prevents importing * from pylab and numpy\n",
      "  \"\\n`%matplotlib` prevents importing * from pylab and numpy\"\n"
     ]
    }
   ],
   "source": [
    "# df.to_pickle(\"fomc.pickle\")\n",
    "from __future__ import print_function\n",
    "from bs4 import BeautifulSoup\n",
    "from urllib.request import urlopen\n",
    "import re\n",
    "import pandas as pd\n",
    "import threading\n",
    "import sys\n",
    "import numpy as np\n",
    "import nltk\n",
    "import os\n",
    "from sklearn.feature_extraction.text import CountVectorizer,TfidfVectorizer\n",
    "\n",
    "from datetime import datetime\n",
    "%matplotlib inline\n",
    "import matplotlib.pyplot as pyplot\n",
    "%pylab inline\n",
    "import pickle as pk\n",
    "from scipy import sparse as sp\n",
    "from nltk.stem.wordnet import WordNetLemmatizer\n",
    "from nltk.tokenize import RegexpTokenizer\n",
    "from gensim.corpora import Dictionary\n",
    "import pyLDAvis.gensim\n",
    "pyLDAvis.enable_notebook()\n",
    "\n",
    "\n",
    "from datetime import datetime\n",
    "import pandas as pd\n",
    "%matplotlib inline\n",
    "import matplotlib.pyplot as pyplot\n",
    "from nltk.corpus import stopwords\n",
    "import warnings\n",
    "warnings.filterwarnings(\"ignore\", category=DeprecationWarning) \n",
    "df = pd.read_pickle('fomc.pickle')\n",
    "df['statements'] = [e.split('For immediate release')[-1] for e in list(df.statements)]\n",
    "# stop = stopwords.words('english')\n",
    "# stop += [\"Federal\", \"Reserve\", \"Board\", \"Committee\"]"
   ]
  },
  {
   "cell_type": "code",
   "execution_count": 85,
   "metadata": {
    "collapsed": true
   },
   "outputs": [],
   "source": [
    "from datetime import datetime\n",
    "import pandas as pd\n",
    "%matplotlib inline\n",
    "import matplotlib.pyplot as pyplot"
   ]
  },
  {
   "cell_type": "code",
   "execution_count": 86,
   "metadata": {
    "collapsed": true
   },
   "outputs": [],
   "source": [
    "\n",
    "import pyLDAvis.sklearn"
   ]
  },
  {
   "cell_type": "code",
   "execution_count": 87,
   "metadata": {},
   "outputs": [
    {
     "ename": "SyntaxError",
     "evalue": "invalid syntax (<ipython-input-87-f6ef9d7f1817>, line 1)",
     "output_type": "error",
     "traceback": [
      "\u001b[0;36m  File \u001b[0;32m\"<ipython-input-87-f6ef9d7f1817>\"\u001b[0;36m, line \u001b[0;32m1\u001b[0m\n\u001b[0;31m    get feature_names\u001b[0m\n\u001b[0m                    ^\u001b[0m\n\u001b[0;31mSyntaxError\u001b[0m\u001b[0;31m:\u001b[0m invalid syntax\n"
     ]
    }
   ],
   "source": [
    "get feature_names\n",
    "instead of creating list"
   ]
  },
  {
   "cell_type": "markdown",
   "metadata": {},
   "source": [
    "### LDA and NMF pre/post 9/11 and Financial Crisis of 2008-9"
   ]
  },
  {
   "cell_type": "code",
   "execution_count": 88,
   "metadata": {
    "collapsed": true
   },
   "outputs": [],
   "source": [
    "\n",
    "\n",
    "docs = array(df['statements'])"
   ]
  },
  {
   "cell_type": "code",
   "execution_count": 89,
   "metadata": {
    "collapsed": true
   },
   "outputs": [],
   "source": [
    "\n",
    "df1 = df.loc['1994': '2001-08-21']\n",
    "df2= df.loc['2001-09-17':'2008-08-05']\n",
    "df3 = df.loc['2008-9-16':]\n"
   ]
  },
  {
   "cell_type": "code",
   "execution_count": 103,
   "metadata": {},
   "outputs": [
    {
     "data": {
      "text/plain": [
       "'\\n\\n\\n\\n\\n\\r\\nThe Federal Open Market Committee decided today to lower its target for the federal funds rate by 25 basis points to 1-3/4 percent. In a related action, the Board of Governors approved a 25 basis point reduction in the discount rate to 1-1/4 percent. \\r\\n\\r\\nEconomic activity remains soft, with underlying inflation likely to edge lower from relatively modest levels.  To be sure, weakness in demand shows signs of abating, but those signs are preliminary and tentative.  The Committee continues to believe that, against the background of its long-run goals of price stability and sustainable economic growth and of the information currently available, the risks are weighted mainly toward conditions that may generate economic weakness in the foreseeable future.\\r\\n\\r\\nAlthough the necessary reallocation of resources to enhance security may restrain advances in productivity for a time, the long-term prospects for productivity growth and the economy remain favorable and should become evident once the unusual forces restraining demand abate. \\r\\n\\r\\nIn taking the discount rate action, the Federal Reserve Board approved the requests submitted by the Boards of Directors of the Federal Reserve Banks of Boston, New York, Philadelphia, Chicago and San Francisco. \\r\\n\\n\\n2001 Monetary policy\\n\\n Home | News and events\\nAccessibility\\n Last update: December 11, 2001\\n\\nThe Federal Open Market Committee decided today to lower its target for the federal funds rate by 25 basis points to 1-3/4 percent. In a related action, the Board of Governors approved a 25 basis point reduction in the discount rate to 1-1/4 percent. \\r\\n\\r\\nEconomic activity remains soft, with underlying inflation likely to edge lower from relatively modest levels.  To be sure, weakness in demand shows signs of abating, but those signs are preliminary and tentative.  The Committee continues to believe that, against the background of its long-run goals of price stability and sustainable economic growth and of the information currently available, the risks are weighted mainly toward conditions that may generate economic weakness in the foreseeable future.\\r\\n\\r\\nAlthough the necessary reallocation of resources to enhance security may restrain advances in productivity for a time, the long-term prospects for productivity growth and the economy remain favorable and should become evident once the unusual forces restraining demand abate. \\r\\n\\r\\nIn taking the discount rate action, the Federal Reserve Board approved the requests submitted by the Boards of Directors of the Federal Reserve Banks of Boston, New York, Philadelphia, Chicago and San Francisco. \\r\\n\\n\\n2001 Monetary policy\\n\\n Home | News and events\\nAccessibility\\n Last update: December 11, 2001\\n\\nThe Federal Open Market Committee decided today to lower its target for the federal funds rate by 25 basis points to 1-3/4 percent. In a related action, the Board of Governors approved a 25 basis point reduction in the discount rate to 1-1/4 percent. \\r\\n\\r\\nEconomic activity remains soft, with underlying inflation likely to edge lower from relatively modest levels.  To be sure, weakness in demand shows signs of abating, but those signs are preliminary and tentative.  The Committee continues to believe that, against the background of its long-run goals of price stability and sustainable economic growth and of the information currently available, the risks are weighted mainly toward conditions that may generate economic weakness in the foreseeable future.\\r\\n\\r\\nAlthough the necessary reallocation of resources to enhance security may restrain advances in productivity for a time, the long-term prospects for productivity growth and the economy remain favorable and should become evident once the unusual forces restraining demand abate. \\r\\n\\r\\nIn taking the discount rate action, the Federal Reserve Board approved the requests submitted by the Boards of Directors of the Federal Reserve Banks of Boston, New York, Philadelphia, Chicago and San Francisco. \\r\\n\\n\\n2001 Monetary policy\\n\\n Home | News and events\\nAccessibility\\n Last update: December 11, 2001\\n\\nEconomic activity remains soft, with underlying inflation likely to edge lower from relatively modest levels.  To be sure, weakness in demand shows signs of abating, but those signs are preliminary and tentative.  The Committee continues to believe that, against the background of its long-run goals of price stability and sustainable economic growth and of the information currently available, the risks are weighted mainly toward conditions that may generate economic weakness in the foreseeable future.\\r\\n\\r\\nAlthough the necessary reallocation of resources to enhance security may restrain advances in productivity for a time, the long-term prospects for productivity growth and the economy remain favorable and should become evident once the unusual forces restraining demand abate. \\r\\n\\r\\nIn taking the discount rate action, the Federal Reserve Board approved the requests submitted by the Boards of Directors of the Federal Reserve Banks of Boston, New York, Philadelphia, Chicago and San Francisco. \\r\\n\\n\\n2001 Monetary policy\\n\\n Home | News and events\\nAccessibility\\n Last update: December 11, 2001\\n\\nAlthough the necessary reallocation of resources to enhance security may restrain advances in productivity for a time, the long-term prospects for productivity growth and the economy remain favorable and should become evident once the unusual forces restraining demand abate. \\r\\n\\r\\nIn taking the discount rate action, the Federal Reserve Board approved the requests submitted by the Boards of Directors of the Federal Reserve Banks of Boston, New York, Philadelphia, Chicago and San Francisco. \\r\\n\\n\\n2001 Monetary policy\\n\\n Home | News and events\\nAccessibility\\n Last update: December 11, 2001\\n\\nIn taking the discount rate action, the Federal Reserve Board approved the requests submitted by the Boards of Directors of the Federal Reserve Banks of Boston, New York, Philadelphia, Chicago and San Francisco. \\r\\n\\n\\n2001 Monetary policy\\n\\n Home | News and events\\nAccessibility\\n Last update: December 11, 2001\\n\\n2001 Monetary policy\\n\\n Home | News and events\\nAccessibility\\n Last update: December 11, 2001'"
      ]
     },
     "execution_count": 103,
     "metadata": {},
     "output_type": "execute_result"
    }
   ],
   "source": [
    "df.loc['2001-09-17'].statements"
   ]
  },
  {
   "cell_type": "code",
   "execution_count": 90,
   "metadata": {
    "collapsed": true
   },
   "outputs": [],
   "source": [
    "df_sent = pd.read_pickle('df_sent.pickle')"
   ]
  },
  {
   "cell_type": "code",
   "execution_count": 91,
   "metadata": {
    "collapsed": true
   },
   "outputs": [],
   "source": [
    "import nltk\n",
    "from nltk.corpus import stopwords\n",
    "\n",
    "stops = stopwords.words(\"english\")\n",
    "#set(stopwords.words('english'))"
   ]
  },
  {
   "cell_type": "code",
   "execution_count": 92,
   "metadata": {
    "collapsed": true
   },
   "outputs": [],
   "source": [
    "docs = df_sent['stm']\n",
    "\n"
   ]
  },
  {
   "cell_type": "code",
   "execution_count": 104,
   "metadata": {},
   "outputs": [
    {
     "data": {
      "text/plain": [
       "14261"
      ]
     },
     "execution_count": 104,
     "metadata": {},
     "output_type": "execute_result"
    }
   ],
   "source": [
    "len(df_sent)"
   ]
  },
  {
   "cell_type": "code",
   "execution_count": 94,
   "metadata": {
    "scrolled": true
   },
   "outputs": [
    {
     "data": {
      "text/plain": [
       "14261"
      ]
     },
     "execution_count": 94,
     "metadata": {},
     "output_type": "execute_result"
    }
   ],
   "source": [
    "len(df_sent)"
   ]
  },
  {
   "cell_type": "code",
   "execution_count": 95,
   "metadata": {
    "scrolled": true
   },
   "outputs": [
    {
     "data": {
      "text/plain": [
       "1994-02-04                         \\n                \\n     ...\n",
       "1994-03-22    Chairman Alan Greenspan announced today that t...\n",
       "1994-04-18    Chairman Alan Greenspan announced today that t...\n",
       "1994-05-17    The Federal Reserve today announced two action...\n",
       "1994-08-16    The Federal Reserve announced today the follow...\n",
       "1994-11-15    \\n\\nChairman Alan Greenspan announced today th...\n",
       "1995-02-01    \\n\\n\\n\\n\\n\\n\\r\\nThe Federal Reserve today anno...\n",
       "1995-07-06    \\n\\n\\n\\n\\n\\n\\r\\n\\r\\n\\tThe Federal Open Market ...\n",
       "1995-12-19    \\n\\n\\n\\n\\n\\n\\r\\n\\r\\nThe Federal Reserve today ...\n",
       "1996-01-31    \\n\\n\\n\\n\\n\\n\\r\\nThe Federal Open Market Commit...\n",
       "1997-03-25    \\n\\n\\n\\n\\n\\n\\r\\nThe Federal Reserve today anno...\n",
       "1998-09-29    \\n\\nChairman Alan Greenspan announced today th...\n",
       "1998-10-15    The Federal Reserve Board today approved an in...\n",
       "1998-11-17    \\n\\nThe Federal Reserve Board today approved a...\n",
       "1999-05-18    \\n\\n\\n\\n\\n\\n\\r\\nThe Federal Reserve released t...\n",
       "1999-06-30    \\n\\n\\n\\n\\n\\n\\r\\n\\tThe Federal Open Market Comm...\n",
       "1999-08-24    \\n\\n\\n\\n\\n\\n\\r\\nThe Federal Open Market Commit...\n",
       "1999-10-05    \\n\\n\\n\\n\\n\\n\\n\\r\\nThe Federal Open Market Comm...\n",
       "1999-11-16    \\n\\n\\n\\n\\n\\n\\n\\r\\nThe Federal Open Market Comm...\n",
       "1999-12-21    \\n\\n\\n\\n\\n\\n\\n\\r\\n\\tThe Federal Open Market Co...\n",
       "2000-02-02    \\n\\n\\n\\n\\n\\n\\n\\r\\nThe Federal Open Market Comm...\n",
       "2000-03-21    \\n\\n\\n\\n\\n\\n\\n\\r\\nThe Federal Open Market Comm...\n",
       "2000-05-16    \\n\\n\\n\\n\\n\\n\\n\\r\\nThe Federal Open Market Comm...\n",
       "2000-06-28    \\n\\n\\n\\n\\n\\n\\n\\r\\nThe Federal Open Market Comm...\n",
       "2000-08-22    \\n\\n\\n\\n\\n\\n\\n\\r\\n\\tThe Federal Open Market Co...\n",
       "2000-10-03    \\n\\n\\n\\n\\n\\n\\n\\r\\n\\r\\nThe Federal Open Market ...\n",
       "2000-11-15    \\n\\n\\n\\n\\n\\n\\n\\r\\nThe Federal Open Market Comm...\n",
       "2000-12-19    \\n\\n\\n\\n\\n\\n\\n\\r\\nThe Federal Open Market Comm...\n",
       "2001-01-03    \\n\\n\\n\\n\\n\\n\\n\\r\\nThe Federal Open Market Comm...\n",
       "2001-01-31    \\n\\n\\n\\n\\n\\n\\n\\r\\nThe Federal Open Market Comm...\n",
       "                                    ...                        \n",
       "2014-06-18                         \\n                \\n     ...\n",
       "2014-07-30                         \\n                \\n     ...\n",
       "2014-09-17                         \\n                \\n     ...\n",
       "2014-10-29                         \\n                \\n     ...\n",
       "2014-12-17                         \\n                \\n     ...\n",
       "2015-01-28                         \\n                \\n     ...\n",
       "2015-03-18                         \\n                \\n     ...\n",
       "2015-04-29                         \\n                \\n     ...\n",
       "2015-06-17                         \\n                \\n     ...\n",
       "2015-07-29                         \\n                \\n     ...\n",
       "2015-09-17                         \\n                \\n     ...\n",
       "2015-10-28    The Federal Reserve, the central bank of the U...\n",
       "2015-12-16                         \\n                \\n     ...\n",
       "2016-01-27    The Federal Reserve, the central bank of the U...\n",
       "2016-03-16    The Federal Reserve, the central bank of the U...\n",
       "2016-04-27    The Federal Reserve, the central bank of the U...\n",
       "2016-06-15    The Federal Reserve, the central bank of the U...\n",
       "2016-07-27    The Federal Reserve, the central bank of the U...\n",
       "2016-09-21    The Federal Reserve, the central bank of the U...\n",
       "2016-11-02    The Federal Reserve, the central bank of the U...\n",
       "2016-12-14                         \\n                \\n     ...\n",
       "2017-02-01    The Federal Reserve, the central bank of the U...\n",
       "2017-03-15    The Federal Reserve, the central bank of the U...\n",
       "2017-05-03    The Federal Reserve, the central bank of the U...\n",
       "2017-06-14    The Federal Reserve, the central bank of the U...\n",
       "2017-07-26    The Federal Reserve, the central bank of the U...\n",
       "2017-09-20    The Federal Reserve, the central bank of the U...\n",
       "2017-11-01    The Federal Reserve, the central bank of the U...\n",
       "2017-12-13    The Federal Reserve, the central bank of the U...\n",
       "2018-01-31    The Federal Reserve, the central bank of the U...\n",
       "Name: statements, Length: 174, dtype: object"
      ]
     },
     "execution_count": 95,
     "metadata": {},
     "output_type": "execute_result"
    }
   ],
   "source": [
    "df.statements"
   ]
  },
  {
   "cell_type": "code",
   "execution_count": 96,
   "metadata": {
    "collapsed": true
   },
   "outputs": [],
   "source": [
    "from sklearn.decomposition import NMF, LatentDirichletAllocation\n",
    "dfm= df_sent.stm\n",
    "df1=df.statements\n",
    "\n",
    "no_features = 5000\n",
    "maxdf = .05\n",
    "mindf = 1\n",
    "\n",
    "# LDA POST FIN CRISIS\n",
    "ct_vect = CountVectorizer(max_df=maxdf, min_df=mindf, max_features=no_features, stop_words=stops)\n",
    "ct = ct_vect.fit_transform(dfm)\n",
    "tf_feature_names = ct_vect.get_feature_names()\n",
    "\n",
    "\n",
    "no_topics = 4\n",
    "\n",
    "\n",
    "# Run LDA\n",
    "lda = LatentDirichletAllocation(n_topics=no_topics, max_iter=5,\n",
    "                                \n",
    "#                                 learning_method='online', learning_offset=50.,\n",
    "                                random_state=42)\n",
    "\n",
    "##\n",
    "\n",
    "tp = lda.fit_transform(ct)"
   ]
  },
  {
   "cell_type": "code",
   "execution_count": 78,
   "metadata": {
    "collapsed": true
   },
   "outputs": [],
   "source": [
    "df_sent['topic'] = [list(v).index(max(v)) for v in tp]"
   ]
  },
  {
   "cell_type": "code",
   "execution_count": 79,
   "metadata": {
    "collapsed": true
   },
   "outputs": [],
   "source": [
    "dft = df_sent.groupby(['date','topic']).count()"
   ]
  },
  {
   "cell_type": "code",
   "execution_count": 120,
   "metadata": {},
   "outputs": [
    {
     "data": {
      "text/plain": [
       "\"The Federal Reserve, the central bank of the United States, provides the nation with a safe, flexible, and stable monetary and financial system.\\n\\nFederal Open Market Committee\\n\\nPolicy Implementation\\n\\nReports\\n\\nInstitution Supervision\\n\\nReporting Forms\\n\\nSupervision & Regulation Letters\\n\\nBanking Applications & Legal Developments\\n\\nRegulatory Resources\\n\\nBanking & Data Structure\\n\\nRegulations & Statutes\\n\\nPayment Policies\\n\\nReserve Bank Payment Services & Data\\n\\nFinancial Market Utilities & Infrastructures\\n\\nResearch, Committees, and Forums\\n\\nWorking Papers and Notes\\n\\nModels and Tools\\n\\nBank Assets and Liabilities\\n\\nBank Structure Data\\n\\nBusiness Finance\\n\\nDealer Financing Terms\\n\\nExchange Rates and International Data\\n\\nFinancial Accounts\\n\\nHousehold Finance\\n\\nIndustrial Activity\\n\\nInterest Rates\\n\\nMoney Stock and Reserve Balances\\n\\nRegulations\\n\\nSupervision\\xa0& Enforcement\\n\\nCommunity Development\\n\\nResearch\\xa0& Analysis\\n\\nConsumer Resources\\n\\nDecember 13, 2017\\n\\nFor release at 2:00 p.m. EST                     \\n                \\n                \\n\\nShare\\n\\nInformation received since the Federal Open Market Committee met in November indicates that the labor market has continued to strengthen and that economic activity has been rising at a solid rate. Averaging through hurricane-related fluctuations, job gains have been solid, and the unemployment rate declined further. Household spending has been expanding at a moderate rate, and growth in business fixed investment has picked up in recent quarters. On a 12-month basis, both overall inflation and inflation for items other than food and energy have declined this year and are running below 2 percent. Market-based measures of inflation compensation remain low; survey-based measures of longer-term inflation expectations are little changed, on balance.\\n\\nConsistent with its statutory mandate, the Committee seeks to foster maximum employment and price stability. Hurricane-related disruptions and rebuilding have affected economic activity, employment, and inflation in recent months but have not materially altered the outlook for the national economy. Consequently, the Committee continues to expect that, with gradual adjustments in the stance of monetary policy, economic activity will expand at a moderate pace and labor market conditions will remain strong. Inflation on a 12‑month basis is expected to remain somewhat below 2 percent in the near term but to stabilize around the Committee's 2 percent objective over the medium term. Near-term risks to the economic outlook appear roughly balanced, but the Committee is monitoring inflation developments closely.\\n\\nIn view of realized and expected labor market conditions and inflation, the Committee decided to raise the target range for the federal funds rate to 1-1/4 to 1‑1/2 percent. The stance of monetary policy remains accommodative, thereby supporting strong labor market conditions and a sustained return to 2 percent inflation.\\n\\nIn determining the timing and size of future adjustments to the target range for the federal funds rate, the Committee will assess realized and expected economic conditions relative to its objectives of maximum employment and 2 percent inflation. This assessment will take into account a wide range of information, including measures of labor market conditions, indicators of inflation pressures and inflation expectations, and readings on financial and international developments. The Committee will carefully monitor actual and expected inflation developments relative to its symmetric inflation goal. The Committee expects that economic conditions will evolve in a manner that will warrant gradual increases in the federal funds rate; the federal funds rate is likely to remain, for some time, below levels that are expected to prevail in the longer run. However, the actual path of the federal funds rate will depend on the economic outlook as informed by incoming data.\\n\\nVoting for the FOMC monetary policy action were Janet L. Yellen, Chair; William C. Dudley, Vice Chairman; Lael Brainard; Patrick Harker; Robert S. Kaplan; Jerome H. Powell; and Randal K. Quarles. Voting against the action were Charles L. Evans and Neel Kashkari, who preferred at this meeting to maintain the existing target range for the federal funds rate.\\n\\nImplementation Note issued December 13, 2017\\n\\nBoard of Governors of the Federal Reserve System\\n\\n20th Street and Constitution Avenue N.W., Washington, DC 20551\""
      ]
     },
     "execution_count": 120,
     "metadata": {},
     "output_type": "execute_result"
    }
   ],
   "source": [
    "df.loc['2017-12-13'].statements"
   ]
  },
  {
   "cell_type": "code",
   "execution_count": 97,
   "metadata": {
    "slideshow": {
     "slide_type": "slide"
    }
   },
   "outputs": [
    {
     "data": {
      "text/html": [
       "\n",
       "<link rel=\"stylesheet\" type=\"text/css\" href=\"https://cdn.rawgit.com/bmabey/pyLDAvis/files/ldavis.v1.0.0.css\">\n",
       "\n",
       "\n",
       "<div id=\"ldavis_el74141121997027123655495224\"></div>\n",
       "<script type=\"text/javascript\">\n",
       "\n",
       "var ldavis_el74141121997027123655495224_data = {\"mdsDat\": {\"Freq\": [26.970599081837104, 26.111978804845904, 24.641636754019615, 22.275785359297377], \"cluster\": [1, 1, 1, 1], \"topics\": [1, 2, 3, 4], \"x\": [-0.0558990801038985, -0.07413246699133805, -0.24214653461528998, 0.37217808171052663], \"y\": [-0.29872850913792437, 0.294382631183687, -0.005709068485728322, 0.01005494643996551]}, \"tinfo\": {\"Category\": [\"Default\", \"Default\", \"Default\", \"Default\", \"Default\", \"Default\", \"Default\", \"Default\", \"Default\", \"Default\", \"Default\", \"Default\", \"Default\", \"Default\", \"Default\", \"Default\", \"Default\", \"Default\", \"Default\", \"Default\", \"Default\", \"Default\", \"Default\", \"Default\", \"Default\", \"Default\", \"Default\", \"Default\", \"Default\", \"Default\", \"Topic1\", \"Topic1\", \"Topic1\", \"Topic1\", \"Topic1\", \"Topic1\", \"Topic1\", \"Topic1\", \"Topic1\", \"Topic1\", \"Topic1\", \"Topic1\", \"Topic1\", \"Topic1\", \"Topic1\", \"Topic1\", \"Topic1\", \"Topic1\", \"Topic1\", \"Topic1\", \"Topic1\", \"Topic1\", \"Topic1\", \"Topic1\", \"Topic1\", \"Topic1\", \"Topic1\", \"Topic1\", \"Topic1\", \"Topic1\", \"Topic1\", \"Topic1\", \"Topic1\", \"Topic1\", \"Topic1\", \"Topic1\", \"Topic1\", \"Topic1\", \"Topic1\", \"Topic2\", \"Topic2\", \"Topic2\", \"Topic2\", \"Topic2\", \"Topic2\", \"Topic2\", \"Topic2\", \"Topic2\", \"Topic2\", \"Topic2\", \"Topic2\", \"Topic2\", \"Topic2\", \"Topic2\", \"Topic2\", \"Topic2\", \"Topic2\", \"Topic2\", \"Topic2\", \"Topic2\", \"Topic2\", \"Topic2\", \"Topic2\", \"Topic2\", \"Topic2\", \"Topic2\", \"Topic2\", \"Topic2\", \"Topic2\", \"Topic2\", \"Topic2\", \"Topic2\", \"Topic2\", \"Topic2\", \"Topic2\", \"Topic2\", \"Topic2\", \"Topic2\", \"Topic2\", \"Topic2\", \"Topic2\", \"Topic2\", \"Topic3\", \"Topic3\", \"Topic3\", \"Topic3\", \"Topic3\", \"Topic3\", \"Topic3\", \"Topic3\", \"Topic3\", \"Topic3\", \"Topic3\", \"Topic3\", \"Topic3\", \"Topic3\", \"Topic3\", \"Topic3\", \"Topic3\", \"Topic3\", \"Topic3\", \"Topic3\", \"Topic3\", \"Topic3\", \"Topic3\", \"Topic3\", \"Topic3\", \"Topic3\", \"Topic3\", \"Topic3\", \"Topic3\", \"Topic3\", \"Topic3\", \"Topic3\", \"Topic3\", \"Topic3\", \"Topic3\", \"Topic3\", \"Topic3\", \"Topic3\", \"Topic3\", \"Topic3\", \"Topic3\", \"Topic3\", \"Topic4\", \"Topic4\", \"Topic4\", \"Topic4\", \"Topic4\", \"Topic4\", \"Topic4\", \"Topic4\", \"Topic4\", \"Topic4\", \"Topic4\", \"Topic4\", \"Topic4\", \"Topic4\", \"Topic4\", \"Topic4\", \"Topic4\", \"Topic4\", \"Topic4\", \"Topic4\", \"Topic4\", \"Topic4\", \"Topic4\", \"Topic4\", \"Topic4\", \"Topic4\", \"Topic4\", \"Topic4\", \"Topic4\", \"Topic4\", \"Topic4\", \"Topic4\", \"Topic4\", \"Topic4\", \"Topic4\", \"Topic4\", \"Topic4\"], \"Freq\": [703.0, 594.0, 543.0, 483.0, 478.0, 412.0, 440.0, 860.0, 424.0, 367.0, 349.0, 308.0, 305.0, 343.0, 285.0, 315.0, 269.0, 561.0, 559.0, 268.0, 249.0, 284.0, 246.0, 235.0, 234.0, 262.0, 465.0, 256.0, 241.0, 241.0, 477.343218837375, 342.7762154343318, 283.9706631951393, 241.0043588011759, 233.77612689217824, 223.3550844287824, 226.2536745110365, 203.77409925475308, 196.1751832138415, 177.6694130115074, 161.93654695142416, 148.1948539454683, 161.4125233404405, 194.37775734137912, 144.07974938261424, 126.02735227070752, 125.99333018593728, 126.00989291619172, 120.32415400830625, 120.29970665223831, 171.51412841376273, 118.29717864649285, 118.3041825956668, 122.40699989067471, 121.1511855846722, 115.08536797062322, 109.11028194845402, 107.80146872370229, 104.51429600777274, 110.27276129707128, 177.30098511138127, 276.09700535419074, 141.80183691139084, 343.6980558977628, 532.8372477913701, 383.66278871167646, 142.04370598715377, 197.3768744735979, 144.90250681449905, 314.88449402296186, 255.85445827494047, 261.9155398516205, 230.65331535632086, 242.12586344996106, 227.84190944187827, 206.44986521756294, 206.50534035539013, 213.68564803298608, 176.9776445904953, 156.32320186852482, 153.80123062324552, 169.83516634566683, 148.67692313586574, 149.4124789889364, 126.23724145357893, 126.23724143148904, 126.23724141348463, 126.23724140825752, 116.540557943598, 137.3517844026446, 114.1753003535342, 110.61669787461003, 95.89718452428545, 97.18964269596304, 89.18466635130375, 89.51966026380367, 89.97399548363543, 92.49176952306757, 86.92945227194159, 133.46854451782656, 129.5791781986758, 114.94642196287066, 235.8880121281731, 212.71907324836198, 103.4125455768659, 297.93358439637683, 147.4370457176662, 239.70988256038936, 171.72047802453108, 249.97091451150334, 174.96838687833394, 140.1450478228121, 439.7704379316328, 423.4620590741989, 482.29553719651597, 349.0119654853036, 268.2711447238791, 240.33546109313178, 204.00293360039606, 184.2498126737386, 179.3467670829175, 172.85734330267678, 164.5462891889407, 165.05934331919164, 146.78598990012222, 146.78598986191372, 146.32664342315127, 181.27496516092143, 143.1140734656221, 140.92039829307043, 132.4295739471121, 130.0773556047515, 133.0805390375927, 136.45781711381593, 148.50084200435634, 119.54040567445321, 117.7311079023145, 112.77251034732933, 112.77251013118715, 122.4516969040492, 108.98721531007486, 120.30215398673417, 536.8194657616749, 155.371173708858, 211.7308246415322, 185.74978907404162, 206.17597333863156, 310.9730060159869, 149.69599728758624, 200.7660241853979, 162.92941375069856, 139.95117726371615, 141.09893421856663, 144.26408806362574, 702.6691152121432, 593.7763998481782, 412.1577189927307, 366.950824746947, 304.5814617139361, 307.37699071885555, 284.8293857653162, 268.9183687572845, 249.20812039058396, 245.48113882988963, 234.185929985276, 214.19462262011078, 207.3710674506468, 200.42373522195138, 199.9521540921131, 199.9521540971177, 199.9521540769236, 234.73249973874746, 179.98870572352376, 158.89464011495303, 181.5183586657286, 151.3504177241613, 141.155663779736, 141.1556637548392, 138.0743649441496, 140.43481485274384, 136.67353557244152, 117.70585384137948, 107.1710925922522, 106.4920014399794, 113.44203334168398, 235.1942405509269, 178.69839864353443, 179.7227338372447, 207.3457613712466, 247.24856811061844, 326.7895884710067], \"Term\": [\"percent\", \"funds\", \"term\", \"longer\", \"labor\", \"target\", \"price\", \"market\", \"stability\", \"voting\", \"run\", \"open\", \"employment\", \"pace\", \"fomc\", \"risks\", \"decided\", \"reserve\", \"conditions\", \"prices\", \"vice\", \"agency\", \"basis\", \"today\", \"last\", \"likely\", \"securities\", \"consistent\", \"maximum\", \"energy\", \"labor\", \"pace\", \"agency\", \"mortgage\", \"time\", \"backed\", \"recent\", \"accommodative\", \"stance\", \"william\", \"bernanke\", \"kohn\", \"months\", \"support\", \"expects\", \"bies\", \"washington\", \"susan\", \"olson\", \"mark\", \"moderate\", \"roger\", \"ferguson\", \"greenspan\", \"alan\", \"ongoing\", \"quarters\", \"downside\", \"although\", \"current\", \"markets\", \"activity\", \"donald\", \"securities\", \"market\", \"conditions\", \"since\", \"chairman\", \"information\", \"risks\", \"consistent\", \"likely\", \"developments\", \"low\", \"governors\", \"bank\", \"mandate\", \"remains\", \"pressures\", \"accommodation\", \"system\", \"appropriate\", \"believes\", \"future\", \"avenue\", \"20th\", \"street\", \"constitution\", \"help\", \"rates\", \"monitor\", \"gramlich\", \"yellen\", \"take\", \"foreseeable\", \"richmond\", \"dual\", \"balanced\", \"resource\", \"new\", \"anticipates\", \"york\", \"levels\", \"outlook\", \"stable\", \"financial\", \"data\", \"board\", \"toward\", \"reserve\", \"conditions\", \"expected\", \"price\", \"stability\", \"longer\", \"run\", \"prices\", \"energy\", \"sustainable\", \"spending\", \"currently\", \"long\", \"however\", \"underlying\", \"submitted\", \"directors\", \"available\", \"business\", \"requests\", \"boards\", \"related\", \"investment\", \"billion\", \"housing\", \"goals\", \"well\", \"balance\", \"francisco\", \"san\", \"including\", \"boston\", \"progress\", \"term\", \"household\", \"continues\", \"measures\", \"remain\", \"reserve\", \"banks\", \"information\", \"expectations\", \"maintain\", \"approved\", \"board\", \"percent\", \"funds\", \"target\", \"voting\", \"employment\", \"open\", \"fomc\", \"decided\", \"vice\", \"basis\", \"last\", \"jr\", \"events\", \"update\", \"news\", \"accessibility\", \"home\", \"today\", \"25\", \"taking\", \"continued\", \"increase\", \"dc\", \"20551\", \"point\", \"share\", \"foster\", \"edward\", \"janet\", \"points\", \"near\", \"maximum\", \"ben\", \"discount\", \"range\", \"chairman\", \"market\"], \"Total\": [703.0, 594.0, 543.0, 483.0, 478.0, 412.0, 440.0, 860.0, 424.0, 367.0, 349.0, 308.0, 305.0, 343.0, 285.0, 315.0, 269.0, 561.0, 559.0, 268.0, 249.0, 284.0, 246.0, 235.0, 234.0, 262.0, 465.0, 256.0, 241.0, 241.0, 478.08636279991555, 343.6209885039229, 284.70659354243634, 241.733350428955, 234.5158389317538, 224.089875625511, 227.01061184619317, 204.51196169172331, 196.91633769335368, 178.39006447340313, 162.65738736542113, 148.91616094217747, 162.2201603768756, 195.36473717978458, 144.84583901840986, 126.74847015694588, 126.71481533352895, 126.74213800467682, 121.04506234452971, 121.02060387165821, 172.54402768227158, 119.01783906355404, 119.02510458123757, 123.15356333083632, 121.89593300680221, 115.81287048452701, 109.8387060603407, 108.53488031267449, 105.25778759178455, 111.05765345125101, 183.11602524567306, 300.7681073325668, 148.914171107554, 465.8025412554895, 860.1783822045097, 559.1713790331457, 183.10071165227203, 445.0971608737742, 346.6351268619955, 315.6851262021642, 256.59540652410266, 262.67811974274076, 231.38846949900127, 242.9084941794376, 228.58963264234325, 207.1751499554965, 207.23153376907595, 214.45355981424098, 177.70988298153378, 157.04905488324388, 154.52198440497705, 170.6328311201411, 149.39937646750718, 150.13903803095263, 126.95804500263846, 126.95804498503504, 126.95804497029515, 126.95804501585631, 117.27570690534404, 138.23188628103742, 114.90837704639213, 111.34565725889458, 96.61807022971573, 97.94323891278236, 89.90479523932504, 90.2440726430769, 90.7024079288078, 93.24142682386929, 87.66527674070247, 134.62875684235553, 130.75929963589505, 116.17567695356745, 245.14273495675718, 226.43979414702136, 105.40172056721636, 410.9966040828662, 173.394595789238, 384.47026118325226, 250.53671851752657, 561.4226148059662, 559.1713790331457, 239.03356120822042, 440.4860102802127, 424.17749315265263, 483.25259900429944, 349.7330129028037, 268.97576364402477, 241.03888551462217, 204.73408687678295, 184.9623817210681, 180.0796261709038, 173.573346837039, 165.24384317451276, 165.7769321673683, 147.48165393955955, 147.48165395014513, 147.03546260605046, 182.15364445509766, 143.80975766131738, 141.6159569549121, 133.13417478222348, 130.7783806609614, 133.79874992416669, 137.19600553469851, 149.35945669176073, 120.27346464799929, 118.45399097190166, 113.46880016217837, 113.46880013638483, 123.2238240432616, 109.68218626049543, 121.10853769153044, 543.6498679321819, 156.82785761755247, 221.00620514167474, 204.90771053758843, 286.8351520011454, 561.4226148059662, 181.9637988316605, 346.6351268619955, 286.2647302755678, 217.47200453372767, 245.41153679413154, 384.47026118325226, 703.4043326237127, 594.5011860825617, 412.86007635018694, 367.6514527653932, 305.30817154512937, 308.11965901268513, 285.5298889891739, 269.65031794042574, 249.90464256779117, 246.17872037646106, 234.885082655099, 214.88858403781492, 208.06534517429023, 201.1172402209417, 200.64565552339988, 200.64565553512278, 200.64565553893095, 235.54694927861073, 180.69377949445206, 159.59129978473723, 182.3600639144616, 152.087871863002, 141.8495193217417, 141.84951934663903, 138.78127925432145, 141.17709960857175, 137.43194437290538, 118.39980392726599, 107.86975249093278, 107.18727980859606, 114.21264775519651, 241.22620836089524, 181.83015452995713, 211.30834966286596, 295.07878919350986, 445.0971608737742, 860.1783822045097], \"loglift\": [30.0, 29.0, 28.0, 27.0, 26.0, 25.0, 24.0, 23.0, 22.0, 21.0, 20.0, 19.0, 18.0, 17.0, 16.0, 15.0, 14.0, 13.0, 12.0, 11.0, 10.0, 9.0, 8.0, 7.0, 6.0, 5.0, 4.0, 3.0, 2.0, 1.0, 1.3089, 1.308, 1.3078, 1.3074, 1.3073, 1.3071, 1.3071, 1.3068, 1.3067, 1.3064, 1.306, 1.3056, 1.3054, 1.3054, 1.3051, 1.3047, 1.3047, 1.3046, 1.3044, 1.3044, 1.3044, 1.3043, 1.3043, 1.3043, 1.3043, 1.3041, 1.3038, 1.3036, 1.3033, 1.3033, 1.2782, 1.2248, 1.2615, 1.0064, 0.8315, 0.9337, 1.0565, 0.4972, 0.4382, 1.3402, 1.3399, 1.3399, 1.3396, 1.3395, 1.3395, 1.3393, 1.3393, 1.3392, 1.3386, 1.3381, 1.3381, 1.3381, 1.3379, 1.3379, 1.3371, 1.3371, 1.3371, 1.3371, 1.3365, 1.3364, 1.3364, 1.3362, 1.3353, 1.3351, 1.3347, 1.3347, 1.3347, 1.3347, 1.3343, 1.3341, 1.3337, 1.3321, 1.3043, 1.2803, 1.3237, 1.0211, 1.1806, 0.8703, 0.965, 0.5336, 0.1809, 0.8088, 1.3991, 1.399, 1.3988, 1.3987, 1.3981, 1.3978, 1.3972, 1.3969, 1.3967, 1.3966, 1.3965, 1.3964, 1.396, 1.396, 1.3959, 1.3959, 1.3959, 1.3958, 1.3954, 1.3954, 1.3954, 1.3953, 1.395, 1.3946, 1.3946, 1.3946, 1.3946, 1.3944, 1.3944, 1.3941, 1.3881, 1.3914, 1.3579, 1.3026, 1.0706, 0.81, 1.2055, 0.8546, 0.8371, 0.96, 0.8473, 0.4205, 1.5006, 1.5005, 1.5, 1.4998, 1.4993, 1.4993, 1.4992, 1.499, 1.4989, 1.4988, 1.4987, 1.4984, 1.4983, 1.4982, 1.4982, 1.4982, 1.4982, 1.4982, 1.4978, 1.4973, 1.497, 1.4968, 1.4968, 1.4968, 1.4966, 1.4964, 1.4961, 1.4958, 1.4952, 1.4952, 1.4949, 1.4763, 1.4843, 1.3398, 1.1488, 0.9138, 0.5338], \"logprob\": [30.0, 29.0, 28.0, 27.0, 26.0, 25.0, 24.0, 23.0, 22.0, 21.0, 20.0, 19.0, 18.0, 17.0, 16.0, 15.0, 14.0, 13.0, 12.0, 11.0, 10.0, 9.0, 8.0, 7.0, 6.0, 5.0, 4.0, 3.0, 2.0, 1.0, -3.5834, -3.9146, -4.1028, -4.2668, -4.2973, -4.3429, -4.33, -4.4346, -4.4726, -4.5717, -4.6644, -4.7531, -4.6677, -4.4818, -4.7813, -4.9151, -4.9154, -4.9153, -4.9615, -4.9617, -4.607, -4.9784, -4.9784, -4.9443, -4.9546, -5.006, -5.0593, -5.0714, -5.1023, -5.0487, -4.5738, -4.1309, -4.7972, -3.9119, -3.4734, -3.8019, -4.7955, -4.4665, -4.7756, -3.9671, -4.1747, -4.1513, -4.2784, -4.2298, -4.2906, -4.3892, -4.389, -4.3548, -4.5433, -4.6674, -4.6836, -4.5845, -4.7175, -4.7126, -4.8811, -4.8811, -4.8811, -4.8811, -4.9611, -4.7967, -4.9816, -5.0132, -5.156, -5.1426, -5.2286, -5.2248, -5.2198, -5.1922, -5.2542, -4.8254, -4.855, -4.9748, -4.2559, -4.3593, -5.0806, -4.0224, -4.7259, -4.2399, -4.5734, -4.1979, -4.5547, -4.7766, -3.5751, -3.6129, -3.4828, -3.8062, -4.0693, -4.1793, -4.3432, -4.445, -4.472, -4.5089, -4.5581, -4.555, -4.6724, -4.6724, -4.6755, -4.4613, -4.6977, -4.7131, -4.7753, -4.7932, -4.7704, -4.7453, -4.6607, -4.8777, -4.8929, -4.936, -4.936, -4.8536, -4.9701, -4.8713, -3.3757, -4.6155, -4.306, -4.4369, -4.3326, -3.9216, -4.6527, -4.3592, -4.568, -4.72, -4.7119, -4.6897, -3.0055, -3.1739, -3.539, -3.6552, -3.8415, -3.8323, -3.9085, -3.966, -4.0421, -4.0572, -4.1043, -4.1935, -4.2259, -4.26, -4.2623, -4.2623, -4.2623, -4.1019, -4.3675, -4.4922, -4.359, -4.5408, -4.6105, -4.6105, -4.6326, -4.6157, -4.6428, -4.7922, -4.886, -4.8923, -4.8291, -4.1, -4.3747, -4.369, -4.226, -4.05, -3.7711]}, \"token.table\": {\"Topic\": [4, 2, 4, 4, 2, 1, 1, 2, 1, 1, 1, 1, 2, 2, 2, 3, 3, 2, 1, 3, 2, 2, 2, 3, 4, 2, 2, 4, 1, 1, 3, 2, 3, 3, 3, 3, 1, 4, 1, 2, 2, 2, 4, 3, 4, 1, 3, 1, 2, 4, 4, 2, 3, 2, 4, 1, 2, 1, 2, 4, 4, 3, 4, 2, 3, 2, 4, 1, 1, 1, 2, 4, 2, 4, 3, 4, 2, 3, 2, 2, 1, 2, 4, 2, 3, 3, 3, 3, 4, 1, 2, 3, 3, 4, 4, 1, 1, 4, 2, 3, 4, 2, 3, 3, 2, 1, 3, 2, 1, 1, 4, 1, 2, 3, 4, 1, 3, 1, 4, 2, 1, 1, 4, 2, 3, 4, 1, 1, 4, 1, 2, 4, 1, 4, 4, 4, 2, 3, 3, 3, 1, 2, 4, 2, 1, 3, 1, 3, 2, 3, 2, 3, 2, 2, 2, 1, 3, 3, 1, 3, 4, 1, 4, 3, 3, 2, 3, 1, 2, 3, 1, 1, 3, 2, 2, 4, 4, 3, 4, 1, 4, 2, 4, 3, 4, 4, 4, 1, 3, 1, 2, 2, 3], \"Freq\": [0.994011122839528, 0.9924538457949004, 0.9961604682995002, 0.9967821105650116, 0.993320208873439, 0.9974966662708217, 0.9176504864421011, 0.07979569447322618, 0.9975181693769554, 0.9926500172343551, 0.9975508929298009, 0.007647639615572609, 0.9941931500244392, 0.9962912698805569, 0.4237779582760305, 0.5745451165088491, 0.9929577355850218, 0.9924538456572913, 0.9951364352250686, 0.9961673644916755, 0.9866858877415688, 0.994327746567342, 0.17585915553238168, 0.8243397915580392, 0.9952119323121895, 0.9973267862493788, 0.016498913547949166, 0.9844351750276336, 0.9959584536794246, 0.994094838730447, 0.9940302138501339, 0.6242355371293787, 0.3745413222776272, 0.9956505116502641, 0.9937803367734188, 0.9936666408264917, 0.44259999235507935, 0.5549350157954549, 0.6867304271974153, 0.31296308531132205, 0.9976795900902196, 0.992453845553965, 0.9980255330759783, 0.9592490847218459, 0.04072283850234251, 0.990476537020339, 0.9940047289420783, 0.14417981071559824, 0.8477772870077176, 0.9940111230139961, 0.9975882915867008, 0.9983211371774817, 0.9967341432832862, 0.14670504052234218, 0.8518357191619867, 0.953569421525637, 0.04700694331464408, 0.9950718118347431, 0.9922559064875199, 0.9966232720494065, 0.9989906213660456, 0.9956899671503039, 0.9948797567735376, 0.4296722124363563, 0.5694030132286673, 0.5856918137032942, 0.40998426959230594, 0.9941604189382178, 0.9913874927071548, 0.2749414444729004, 0.7250668181674719, 0.998144190819918, 0.9899360736330416, 0.9968570307661998, 0.9958684663845188, 0.9991569636961294, 0.9924134452578696, 0.9975933449429817, 0.9974205626233899, 0.9968956377158844, 0.9906331307057886, 0.9976490706164187, 0.9967821105460931, 0.006376418164422327, 0.9883448154854607, 0.9912825046907359, 0.9985243433593152, 0.9900682838504351, 0.992847083402009, 0.4183072884524144, 0.002884877851395961, 0.5798604481305882, 0.9940480937519839, 0.9919370122685144, 0.9958649081253262, 0.993847807139393, 0.9977276850283843, 0.9962318481655191, 0.9627044425429538, 0.02447553667482086, 0.008158512224940287, 0.9974184384165499, 0.9966968037000675, 0.9974079828915968, 0.9962599324387293, 0.3540685623654979, 0.6437610224827235, 0.9988827290670254, 0.9915666932819096, 0.6196389156328249, 0.3801537062137594, 0.9666002730374491, 0.027305092458685003, 0.024872919243598447, 0.9741893370409392, 0.09272467078057868, 0.9077257244835597, 0.9968470210787396, 0.0057956222155740676, 0.9920947708971175, 0.9924783678302321, 0.9969662836027645, 0.9893825440611822, 0.9879018652436735, 0.007427833573260703, 0.9967821106232495, 0.9913663364346481, 0.9929811731535001, 0.9963661552259506, 0.044161849014521116, 0.9406473840092998, 0.013248554704356335, 0.9981928097389319, 0.9994251775188753, 0.9943704276360666, 0.9889233143082259, 0.996005382651636, 0.998896649907443, 0.9963722990101215, 0.9908467419996934, 0.9923642030171045, 0.2948365087093611, 0.7015075552050316, 0.9910882625262533, 0.9955481735502396, 0.9914809643423357, 0.2789058434500404, 0.7181825468838541, 0.9978850441343392, 0.9943692439617038, 0.44529734536326565, 0.5539498976319025, 0.9924111716127899, 0.9972954163533573, 0.9978297165583738, 0.9914480125705314, 0.9979040786092235, 0.9958684666108979, 0.7385103547799633, 0.2597667236289987, 0.9916622482553092, 0.7755294816640216, 0.22392048414242877, 0.9947968786295182, 0.9972240555624462, 0.9772136493190854, 0.018975022316875444, 0.9953465633980019, 0.9924538459101249, 0.9967341433548275, 0.9930144139649486, 0.9941445046110123, 0.9964144374394052, 0.996621940839117, 0.9903695352200644, 0.9962949121566477, 0.9979167848880175, 0.987768105311098, 0.01103651514314076, 0.9978004089868578, 0.9976779606771142, 0.6865261148855015, 0.3113316102387739, 0.9953133879532533, 0.9944448311854601, 0.9963800489718962, 0.9982280696553948, 0.9943588653651314, 0.9977263093833737, 0.9978134181712722, 0.9936029541032415, 0.9898801798758845, 0.00860765373805117], \"Term\": [\"20551\", \"20th\", \"25\", \"accessibility\", \"accommodation\", \"accommodative\", \"activity\", \"activity\", \"agency\", \"alan\", \"although\", \"anticipates\", \"anticipates\", \"appropriate\", \"approved\", \"approved\", \"available\", \"avenue\", \"backed\", \"balance\", \"balanced\", \"bank\", \"banks\", \"banks\", \"basis\", \"believes\", \"ben\", \"ben\", \"bernanke\", \"bies\", \"billion\", \"board\", \"board\", \"boards\", \"boston\", \"business\", \"chairman\", \"chairman\", \"conditions\", \"conditions\", \"consistent\", \"constitution\", \"continued\", \"continues\", \"continues\", \"current\", \"currently\", \"data\", \"data\", \"dc\", \"decided\", \"developments\", \"directors\", \"discount\", \"discount\", \"donald\", \"donald\", \"downside\", \"dual\", \"edward\", \"employment\", \"energy\", \"events\", \"expectations\", \"expectations\", \"expected\", \"expected\", \"expects\", \"ferguson\", \"financial\", \"financial\", \"fomc\", \"foreseeable\", \"foster\", \"francisco\", \"funds\", \"future\", \"goals\", \"governors\", \"gramlich\", \"greenspan\", \"help\", \"home\", \"household\", \"household\", \"housing\", \"however\", \"including\", \"increase\", \"information\", \"information\", \"information\", \"investment\", \"janet\", \"jr\", \"kohn\", \"labor\", \"last\", \"levels\", \"levels\", \"levels\", \"likely\", \"long\", \"longer\", \"low\", \"maintain\", \"maintain\", \"mandate\", \"mark\", \"market\", \"market\", \"markets\", \"markets\", \"maximum\", \"maximum\", \"measures\", \"measures\", \"moderate\", \"moderate\", \"monitor\", \"months\", \"mortgage\", \"near\", \"new\", \"new\", \"news\", \"olson\", \"ongoing\", \"open\", \"outlook\", \"outlook\", \"outlook\", \"pace\", \"percent\", \"point\", \"points\", \"pressures\", \"price\", \"prices\", \"progress\", \"quarters\", \"range\", \"range\", \"rates\", \"recent\", \"related\", \"remain\", \"remain\", \"remains\", \"requests\", \"reserve\", \"reserve\", \"resource\", \"richmond\", \"risks\", \"roger\", \"run\", \"san\", \"securities\", \"securities\", \"share\", \"since\", \"since\", \"spending\", \"stability\", \"stable\", \"stable\", \"stance\", \"street\", \"submitted\", \"support\", \"susan\", \"sustainable\", \"system\", \"take\", \"taking\", \"target\", \"term\", \"term\", \"time\", \"today\", \"toward\", \"toward\", \"underlying\", \"update\", \"vice\", \"voting\", \"washington\", \"well\", \"william\", \"yellen\", \"york\", \"york\"]}, \"R\": 30, \"lambda.step\": 0.01, \"plot.opts\": {\"xlab\": \"PC1\", \"ylab\": \"PC2\"}, \"topic.order\": [1, 4, 3, 2]};\n",
       "\n",
       "function LDAvis_load_lib(url, callback){\n",
       "  var s = document.createElement('script');\n",
       "  s.src = url;\n",
       "  s.async = true;\n",
       "  s.onreadystatechange = s.onload = callback;\n",
       "  s.onerror = function(){console.warn(\"failed to load library \" + url);};\n",
       "  document.getElementsByTagName(\"head\")[0].appendChild(s);\n",
       "}\n",
       "\n",
       "if(typeof(LDAvis) !== \"undefined\"){\n",
       "   // already loaded: just create the visualization\n",
       "   !function(LDAvis){\n",
       "       new LDAvis(\"#\" + \"ldavis_el74141121997027123655495224\", ldavis_el74141121997027123655495224_data);\n",
       "   }(LDAvis);\n",
       "}else if(typeof define === \"function\" && define.amd){\n",
       "   // require.js is available: use it to load d3/LDAvis\n",
       "   require.config({paths: {d3: \"https://cdnjs.cloudflare.com/ajax/libs/d3/3.5.5/d3.min\"}});\n",
       "   require([\"d3\"], function(d3){\n",
       "      window.d3 = d3;\n",
       "      LDAvis_load_lib(\"https://cdn.rawgit.com/bmabey/pyLDAvis/files/ldavis.v1.0.0.js\", function(){\n",
       "        new LDAvis(\"#\" + \"ldavis_el74141121997027123655495224\", ldavis_el74141121997027123655495224_data);\n",
       "      });\n",
       "    });\n",
       "}else{\n",
       "    // require.js not available: dynamically load d3 & LDAvis\n",
       "    LDAvis_load_lib(\"https://cdnjs.cloudflare.com/ajax/libs/d3/3.5.5/d3.min.js\", function(){\n",
       "         LDAvis_load_lib(\"https://cdn.rawgit.com/bmabey/pyLDAvis/files/ldavis.v1.0.0.js\", function(){\n",
       "                 new LDAvis(\"#\" + \"ldavis_el74141121997027123655495224\", ldavis_el74141121997027123655495224_data);\n",
       "            })\n",
       "         });\n",
       "}\n",
       "</script>"
      ],
      "text/plain": [
       "PreparedData(topic_coordinates=            Freq  cluster  topics         x         y\n",
       "topic                                                \n",
       "0      26.970599        1       1 -0.055899 -0.298729\n",
       "3      26.111979        1       2 -0.074132  0.294383\n",
       "2      24.641637        1       3 -0.242147 -0.005709\n",
       "1      22.275785        1       4  0.372178  0.010055, topic_info=     Category        Freq           Term       Total  loglift  logprob\n",
       "term                                                                  \n",
       "1108  Default  703.000000        percent  703.000000  30.0000  30.0000\n",
       "700   Default  594.000000          funds  594.000000  29.0000  29.0000\n",
       "1566  Default  543.000000           term  543.000000  28.0000  28.0000\n",
       "924   Default  483.000000         longer  483.000000  27.0000  27.0000\n",
       "878   Default  478.000000          labor  478.000000  26.0000  26.0000\n",
       "1554  Default  412.000000         target  412.000000  25.0000  25.0000\n",
       "1166  Default  440.000000          price  440.000000  24.0000  24.0000\n",
       "950   Default  860.000000         market  860.000000  23.0000  23.0000\n",
       "1459  Default  424.000000      stability  424.000000  22.0000  22.0000\n",
       "1662  Default  367.000000         voting  367.000000  21.0000  21.0000\n",
       "1361  Default  349.000000            run  349.000000  20.0000  20.0000\n",
       "1062  Default  308.000000           open  308.000000  19.0000  19.0000\n",
       "541   Default  305.000000     employment  305.000000  18.0000  18.0000\n",
       "1081  Default  343.000000           pace  343.000000  17.0000  17.0000\n",
       "671   Default  285.000000           fomc  285.000000  16.0000  16.0000\n",
       "1351  Default  315.000000          risks  315.000000  15.0000  15.0000\n",
       "429   Default  269.000000        decided  269.000000  14.0000  14.0000\n",
       "1317  Default  561.000000        reserve  561.000000  13.0000  13.0000\n",
       "335   Default  559.000000     conditions  559.000000  12.0000  12.0000\n",
       "1167  Default  268.000000         prices  268.000000  11.0000  11.0000\n",
       "1653  Default  249.000000           vice  249.000000  10.0000  10.0000\n",
       "121   Default  284.000000         agency  284.000000   9.0000   9.0000\n",
       "223   Default  246.000000          basis  246.000000   8.0000   8.0000\n",
       "1591  Default  235.000000          today  235.000000   7.0000   7.0000\n",
       "886   Default  234.000000           last  234.000000   6.0000   6.0000\n",
       "911   Default  262.000000         likely  262.000000   5.0000   5.0000\n",
       "1376  Default  465.000000     securities  465.000000   4.0000   4.0000\n",
       "354   Default  256.000000     consistent  256.000000   3.0000   3.0000\n",
       "957   Default  241.000000        maximum  241.000000   2.0000   2.0000\n",
       "544   Default  241.000000         energy  241.000000   1.0000   1.0000\n",
       "...       ...         ...            ...         ...      ...      ...\n",
       "429    Topic4  268.918369        decided  269.650318   1.4990  -3.9660\n",
       "1653   Topic4  249.208120           vice  249.904643   1.4989  -4.0421\n",
       "223    Topic4  245.481139          basis  246.178720   1.4988  -4.0572\n",
       "886    Topic4  234.185930           last  234.885083   1.4987  -4.1043\n",
       "854    Topic4  214.194623             jr  214.888584   1.4984  -4.1935\n",
       "577    Topic4  207.371067         events  208.065345   1.4983  -4.2259\n",
       "1642   Topic4  200.423735         update  201.117240   1.4982  -4.2600\n",
       "1028   Topic4  199.952154           news  200.645656   1.4982  -4.2623\n",
       "84     Topic4  199.952154  accessibility  200.645656   1.4982  -4.2623\n",
       "757    Topic4  199.952154           home  200.645656   1.4982  -4.2623\n",
       "1591   Topic4  234.732500          today  235.546949   1.4982  -4.1019\n",
       "50     Topic4  179.988706             25  180.693779   1.4978  -4.3675\n",
       "1553   Topic4  158.894640         taking  159.591300   1.4973  -4.4922\n",
       "370    Topic4  181.518359      continued  182.360064   1.4970  -4.3590\n",
       "795    Topic4  151.350418       increase  152.087872   1.4968  -4.5408\n",
       "423    Topic4  141.155664             dc  141.849519   1.4968  -4.6105\n",
       "45     Topic4  141.155664          20551  141.849519   1.4968  -4.6105\n",
       "1129   Topic4  138.074365          point  138.781279   1.4966  -4.6326\n",
       "1399   Topic4  140.434815          share  141.177100   1.4964  -4.6157\n",
       "683    Topic4  136.673536         foster  137.431944   1.4961  -4.6428\n",
       "522    Topic4  117.705854         edward  118.399804   1.4958  -4.7922\n",
       "842    Topic4  107.171093          janet  107.869752   1.4952  -4.8860\n",
       "1131   Topic4  106.492001         points  107.187280   1.4952  -4.8923\n",
       "1017   Topic4  113.442033           near  114.212648   1.4949  -4.8291\n",
       "957    Topic4  235.194241        maximum  241.226208   1.4763  -4.1000\n",
       "233    Topic4  178.698399            ben  181.830155   1.4843  -4.3747\n",
       "479    Topic4  179.722734       discount  211.308350   1.3398  -4.3690\n",
       "1231   Topic4  207.345761          range  295.078789   1.1488  -4.2260\n",
       "288    Topic4  247.248568       chairman  445.097161   0.9138  -4.0500\n",
       "950    Topic4  326.789588         market  860.178382   0.5338  -3.7711\n",
       "\n",
       "[191 rows x 6 columns], token_table=      Topic      Freq           Term\n",
       "term                                \n",
       "45        4  0.994011          20551\n",
       "46        2  0.992454           20th\n",
       "50        4  0.996160             25\n",
       "84        4  0.996782  accessibility\n",
       "86        2  0.993320  accommodation\n",
       "87        1  0.997497  accommodative\n",
       "98        1  0.917650       activity\n",
       "98        2  0.079796       activity\n",
       "121       1  0.997518         agency\n",
       "127       1  0.992650           alan\n",
       "141       1  0.997551       although\n",
       "157       1  0.007648    anticipates\n",
       "157       2  0.994193    anticipates\n",
       "169       2  0.996291    appropriate\n",
       "171       2  0.423778       approved\n",
       "171       3  0.574545       approved\n",
       "201       3  0.992958      available\n",
       "202       2  0.992454         avenue\n",
       "209       1  0.995136         backed\n",
       "212       3  0.996167        balance\n",
       "213       2  0.986686       balanced\n",
       "215       2  0.994328           bank\n",
       "217       2  0.175859          banks\n",
       "217       3  0.824340          banks\n",
       "223       4  0.995212          basis\n",
       "232       2  0.997327       believes\n",
       "233       2  0.016499            ben\n",
       "233       4  0.984435            ben\n",
       "235       1  0.995958       bernanke\n",
       "239       1  0.994095           bies\n",
       "...     ...       ...            ...\n",
       "1453      3  0.994797       spending\n",
       "1459      3  0.997224      stability\n",
       "1464      2  0.977214         stable\n",
       "1464      3  0.018975         stable\n",
       "1467      1  0.995347         stance\n",
       "1498      2  0.992454         street\n",
       "1511      3  0.996734      submitted\n",
       "1526      1  0.993014        support\n",
       "1535      1  0.994145          susan\n",
       "1537      3  0.996414    sustainable\n",
       "1548      2  0.996622         system\n",
       "1550      2  0.990370           take\n",
       "1553      4  0.996295         taking\n",
       "1554      4  0.997917         target\n",
       "1566      3  0.987768           term\n",
       "1566      4  0.011037           term\n",
       "1587      1  0.997800           time\n",
       "1591      4  0.997678          today\n",
       "1597      2  0.686526         toward\n",
       "1597      4  0.311332         toward\n",
       "1623      3  0.995313     underlying\n",
       "1642      4  0.994445         update\n",
       "1653      4  0.996380           vice\n",
       "1662      4  0.998228         voting\n",
       "1668      1  0.994359     washington\n",
       "1688      3  0.997726           well\n",
       "1692      1  0.997813        william\n",
       "1708      2  0.993603         yellen\n",
       "1710      2  0.989880           york\n",
       "1710      3  0.008608           york\n",
       "\n",
       "[193 rows x 3 columns], R=30, lambda_step=0.01, plot_opts={'xlab': 'PC1', 'ylab': 'PC2'}, topic_order=[1, 4, 3, 2])"
      ]
     },
     "execution_count": 97,
     "metadata": {},
     "output_type": "execute_result"
    }
   ],
   "source": [
    "pyLDAvis.sklearn.prepare(lda, ct, ct_vect)"
   ]
  },
  {
   "cell_type": "code",
   "execution_count": 76,
   "metadata": {},
   "outputs": [
    {
     "ename": "AttributeError",
     "evalue": "'LatentDirichletAllocation' object has no attribute 'print_topics'",
     "output_type": "error",
     "traceback": [
      "\u001b[0;31m---------------------------------------------------------------------------\u001b[0m",
      "\u001b[0;31mAttributeError\u001b[0m                            Traceback (most recent call last)",
      "\u001b[0;32m<ipython-input-76-f38f395c0eb9>\u001b[0m in \u001b[0;36m<module>\u001b[0;34m()\u001b[0m\n\u001b[0;32m----> 1\u001b[0;31m \u001b[0;32mfor\u001b[0m \u001b[0mi\u001b[0m \u001b[0;32min\u001b[0m \u001b[0mlda\u001b[0m\u001b[0;34m.\u001b[0m\u001b[0mprint_topics\u001b[0m\u001b[0;34m(\u001b[0m\u001b[0;34m)\u001b[0m\u001b[0;34m:\u001b[0m\u001b[0;34m\u001b[0m\u001b[0m\n\u001b[0m\u001b[1;32m      2\u001b[0m     \u001b[0;32mfor\u001b[0m \u001b[0mj\u001b[0m \u001b[0;32min\u001b[0m \u001b[0mi\u001b[0m\u001b[0;34m:\u001b[0m \u001b[0mprint\u001b[0m \u001b[0;34m(\u001b[0m\u001b[0mj\u001b[0m\u001b[0;34m)\u001b[0m\u001b[0;34m\u001b[0m\u001b[0m\n",
      "\u001b[0;31mAttributeError\u001b[0m: 'LatentDirichletAllocation' object has no attribute 'print_topics'"
     ]
    }
   ],
   "source": [
    "for i in lda.print_topics(): \n",
    "    for j in i: print (j)"
   ]
  },
  {
   "cell_type": "code",
   "execution_count": 77,
   "metadata": {},
   "outputs": [
    {
     "name": "stdout",
     "output_type": "stream",
     "text": [
      "                LDA RESULTS\n",
      "          lda\n",
      "Topic 0:\n",
      "market labor conditions securities pace agency activity mortgage time recent backed accommodative chairman stance support\n",
      "Topic 1:\n",
      "percent funds target voting market open employment fomc decided vice chairman basis maximum today last\n",
      "Topic 2:\n",
      "term longer price stability run reserve prices energy continues remain sustainable information measures spending business\n",
      "Topic 3:\n",
      "risks financial likely consistent reserve low board levels developments governors remains outlook mandate bank pressures\n"
     ]
    }
   ],
   "source": [
    "def display_topics(model, feature_names, no_top_words, model_used):\n",
    "    print (model_used)\n",
    "    for topic_idx, topic in enumerate(model.components_):\n",
    "        print (\"Topic %d:\" % topic_idx)\n",
    "        print (\" \".join([feature_names[i]\n",
    "                        for i in topic.argsort()[:-no_top_words - 1:-1]]))\n",
    "        \n",
    "no_top_words = 15\n",
    "\n",
    "print (\"                LDA RESULTS\")\n",
    "display_topics(lda, tf_feature_names, no_top_words, \"          lda\")\n"
   ]
  },
  {
   "cell_type": "code",
   "execution_count": null,
   "metadata": {
    "collapsed": true
   },
   "outputs": [],
   "source": [
    "#Topic four"
   ]
  },
  {
   "cell_type": "code",
   "execution_count": 82,
   "metadata": {
    "collapsed": true
   },
   "outputs": [],
   "source": [
    "dft.to_csv('topics.csv')"
   ]
  },
  {
   "cell_type": "code",
   "execution_count": 107,
   "metadata": {},
   "outputs": [
    {
     "data": {
      "text/html": [
       "<div>\n",
       "<style>\n",
       "    .dataframe thead tr:only-child th {\n",
       "        text-align: right;\n",
       "    }\n",
       "\n",
       "    .dataframe thead th {\n",
       "        text-align: left;\n",
       "    }\n",
       "\n",
       "    .dataframe tbody tr th {\n",
       "        vertical-align: top;\n",
       "    }\n",
       "</style>\n",
       "<table border=\"1\" class=\"dataframe\">\n",
       "  <thead>\n",
       "    <tr style=\"text-align: right;\">\n",
       "      <th></th>\n",
       "      <th></th>\n",
       "      <th>stm</th>\n",
       "    </tr>\n",
       "    <tr>\n",
       "      <th>date</th>\n",
       "      <th>topic</th>\n",
       "      <th></th>\n",
       "    </tr>\n",
       "  </thead>\n",
       "  <tbody>\n",
       "    <tr>\n",
       "      <th rowspan=\"4\" valign=\"top\">1994-02-04</th>\n",
       "      <th>0</th>\n",
       "      <td>27</td>\n",
       "    </tr>\n",
       "    <tr>\n",
       "      <th>1</th>\n",
       "      <td>12</td>\n",
       "    </tr>\n",
       "    <tr>\n",
       "      <th>2</th>\n",
       "      <td>16</td>\n",
       "    </tr>\n",
       "    <tr>\n",
       "      <th>3</th>\n",
       "      <td>16</td>\n",
       "    </tr>\n",
       "    <tr>\n",
       "      <th rowspan=\"2\" valign=\"top\">1994-03-22</th>\n",
       "      <th>0</th>\n",
       "      <td>2</td>\n",
       "    </tr>\n",
       "    <tr>\n",
       "      <th>3</th>\n",
       "      <td>1</td>\n",
       "    </tr>\n",
       "    <tr>\n",
       "      <th rowspan=\"2\" valign=\"top\">1994-04-18</th>\n",
       "      <th>0</th>\n",
       "      <td>2</td>\n",
       "    </tr>\n",
       "    <tr>\n",
       "      <th>3</th>\n",
       "      <td>1</td>\n",
       "    </tr>\n",
       "    <tr>\n",
       "      <th rowspan=\"4\" valign=\"top\">1994-05-17</th>\n",
       "      <th>0</th>\n",
       "      <td>4</td>\n",
       "    </tr>\n",
       "    <tr>\n",
       "      <th>1</th>\n",
       "      <td>9</td>\n",
       "    </tr>\n",
       "    <tr>\n",
       "      <th>2</th>\n",
       "      <td>4</td>\n",
       "    </tr>\n",
       "    <tr>\n",
       "      <th>3</th>\n",
       "      <td>6</td>\n",
       "    </tr>\n",
       "    <tr>\n",
       "      <th rowspan=\"4\" valign=\"top\">1994-08-16</th>\n",
       "      <th>0</th>\n",
       "      <td>3</td>\n",
       "    </tr>\n",
       "    <tr>\n",
       "      <th>1</th>\n",
       "      <td>1</td>\n",
       "    </tr>\n",
       "    <tr>\n",
       "      <th>2</th>\n",
       "      <td>5</td>\n",
       "    </tr>\n",
       "    <tr>\n",
       "      <th>3</th>\n",
       "      <td>7</td>\n",
       "    </tr>\n",
       "    <tr>\n",
       "      <th rowspan=\"3\" valign=\"top\">1994-11-15</th>\n",
       "      <th>0</th>\n",
       "      <td>2</td>\n",
       "    </tr>\n",
       "    <tr>\n",
       "      <th>1</th>\n",
       "      <td>2</td>\n",
       "    </tr>\n",
       "    <tr>\n",
       "      <th>3</th>\n",
       "      <td>1</td>\n",
       "    </tr>\n",
       "    <tr>\n",
       "      <th rowspan=\"4\" valign=\"top\">1995-02-01</th>\n",
       "      <th>0</th>\n",
       "      <td>4</td>\n",
       "    </tr>\n",
       "    <tr>\n",
       "      <th>1</th>\n",
       "      <td>13</td>\n",
       "    </tr>\n",
       "    <tr>\n",
       "      <th>2</th>\n",
       "      <td>15</td>\n",
       "    </tr>\n",
       "    <tr>\n",
       "      <th>3</th>\n",
       "      <td>7</td>\n",
       "    </tr>\n",
       "    <tr>\n",
       "      <th rowspan=\"4\" valign=\"top\">1995-07-06</th>\n",
       "      <th>0</th>\n",
       "      <td>9</td>\n",
       "    </tr>\n",
       "    <tr>\n",
       "      <th>1</th>\n",
       "      <td>8</td>\n",
       "    </tr>\n",
       "    <tr>\n",
       "      <th>2</th>\n",
       "      <td>9</td>\n",
       "    </tr>\n",
       "    <tr>\n",
       "      <th>3</th>\n",
       "      <td>8</td>\n",
       "    </tr>\n",
       "    <tr>\n",
       "      <th rowspan=\"3\" valign=\"top\">1995-12-19</th>\n",
       "      <th>0</th>\n",
       "      <td>2</td>\n",
       "    </tr>\n",
       "    <tr>\n",
       "      <th>1</th>\n",
       "      <td>19</td>\n",
       "    </tr>\n",
       "    <tr>\n",
       "      <th>2</th>\n",
       "      <td>14</td>\n",
       "    </tr>\n",
       "    <tr>\n",
       "      <th>...</th>\n",
       "      <th>...</th>\n",
       "      <td>...</td>\n",
       "    </tr>\n",
       "    <tr>\n",
       "      <th rowspan=\"2\" valign=\"top\">2017-03-15</th>\n",
       "      <th>2</th>\n",
       "      <td>9</td>\n",
       "    </tr>\n",
       "    <tr>\n",
       "      <th>3</th>\n",
       "      <td>21</td>\n",
       "    </tr>\n",
       "    <tr>\n",
       "      <th rowspan=\"4\" valign=\"top\">2017-05-03</th>\n",
       "      <th>0</th>\n",
       "      <td>22</td>\n",
       "    </tr>\n",
       "    <tr>\n",
       "      <th>1</th>\n",
       "      <td>12</td>\n",
       "    </tr>\n",
       "    <tr>\n",
       "      <th>2</th>\n",
       "      <td>12</td>\n",
       "    </tr>\n",
       "    <tr>\n",
       "      <th>3</th>\n",
       "      <td>21</td>\n",
       "    </tr>\n",
       "    <tr>\n",
       "      <th rowspan=\"4\" valign=\"top\">2017-06-14</th>\n",
       "      <th>0</th>\n",
       "      <td>23</td>\n",
       "    </tr>\n",
       "    <tr>\n",
       "      <th>1</th>\n",
       "      <td>14</td>\n",
       "    </tr>\n",
       "    <tr>\n",
       "      <th>2</th>\n",
       "      <td>11</td>\n",
       "    </tr>\n",
       "    <tr>\n",
       "      <th>3</th>\n",
       "      <td>22</td>\n",
       "    </tr>\n",
       "    <tr>\n",
       "      <th rowspan=\"4\" valign=\"top\">2017-07-26</th>\n",
       "      <th>0</th>\n",
       "      <td>19</td>\n",
       "    </tr>\n",
       "    <tr>\n",
       "      <th>1</th>\n",
       "      <td>13</td>\n",
       "    </tr>\n",
       "    <tr>\n",
       "      <th>2</th>\n",
       "      <td>9</td>\n",
       "    </tr>\n",
       "    <tr>\n",
       "      <th>3</th>\n",
       "      <td>22</td>\n",
       "    </tr>\n",
       "    <tr>\n",
       "      <th rowspan=\"4\" valign=\"top\">2017-09-20</th>\n",
       "      <th>0</th>\n",
       "      <td>17</td>\n",
       "    </tr>\n",
       "    <tr>\n",
       "      <th>1</th>\n",
       "      <td>15</td>\n",
       "    </tr>\n",
       "    <tr>\n",
       "      <th>2</th>\n",
       "      <td>12</td>\n",
       "    </tr>\n",
       "    <tr>\n",
       "      <th>3</th>\n",
       "      <td>24</td>\n",
       "    </tr>\n",
       "    <tr>\n",
       "      <th rowspan=\"4\" valign=\"top\">2017-11-01</th>\n",
       "      <th>0</th>\n",
       "      <td>17</td>\n",
       "    </tr>\n",
       "    <tr>\n",
       "      <th>1</th>\n",
       "      <td>16</td>\n",
       "    </tr>\n",
       "    <tr>\n",
       "      <th>2</th>\n",
       "      <td>12</td>\n",
       "    </tr>\n",
       "    <tr>\n",
       "      <th>3</th>\n",
       "      <td>23</td>\n",
       "    </tr>\n",
       "    <tr>\n",
       "      <th rowspan=\"4\" valign=\"top\">2017-12-13</th>\n",
       "      <th>0</th>\n",
       "      <td>19</td>\n",
       "    </tr>\n",
       "    <tr>\n",
       "      <th>1</th>\n",
       "      <td>14</td>\n",
       "    </tr>\n",
       "    <tr>\n",
       "      <th>2</th>\n",
       "      <td>11</td>\n",
       "    </tr>\n",
       "    <tr>\n",
       "      <th>3</th>\n",
       "      <td>21</td>\n",
       "    </tr>\n",
       "    <tr>\n",
       "      <th rowspan=\"4\" valign=\"top\">2018-01-31</th>\n",
       "      <th>0</th>\n",
       "      <td>16</td>\n",
       "    </tr>\n",
       "    <tr>\n",
       "      <th>1</th>\n",
       "      <td>14</td>\n",
       "    </tr>\n",
       "    <tr>\n",
       "      <th>2</th>\n",
       "      <td>9</td>\n",
       "    </tr>\n",
       "    <tr>\n",
       "      <th>3</th>\n",
       "      <td>21</td>\n",
       "    </tr>\n",
       "  </tbody>\n",
       "</table>\n",
       "<p>688 rows × 1 columns</p>\n",
       "</div>"
      ],
      "text/plain": [
       "                  stm\n",
       "date       topic     \n",
       "1994-02-04 0       27\n",
       "           1       12\n",
       "           2       16\n",
       "           3       16\n",
       "1994-03-22 0        2\n",
       "           3        1\n",
       "1994-04-18 0        2\n",
       "           3        1\n",
       "1994-05-17 0        4\n",
       "           1        9\n",
       "           2        4\n",
       "           3        6\n",
       "1994-08-16 0        3\n",
       "           1        1\n",
       "           2        5\n",
       "           3        7\n",
       "1994-11-15 0        2\n",
       "           1        2\n",
       "           3        1\n",
       "1995-02-01 0        4\n",
       "           1       13\n",
       "           2       15\n",
       "           3        7\n",
       "1995-07-06 0        9\n",
       "           1        8\n",
       "           2        9\n",
       "           3        8\n",
       "1995-12-19 0        2\n",
       "           1       19\n",
       "           2       14\n",
       "...               ...\n",
       "2017-03-15 2        9\n",
       "           3       21\n",
       "2017-05-03 0       22\n",
       "           1       12\n",
       "           2       12\n",
       "           3       21\n",
       "2017-06-14 0       23\n",
       "           1       14\n",
       "           2       11\n",
       "           3       22\n",
       "2017-07-26 0       19\n",
       "           1       13\n",
       "           2        9\n",
       "           3       22\n",
       "2017-09-20 0       17\n",
       "           1       15\n",
       "           2       12\n",
       "           3       24\n",
       "2017-11-01 0       17\n",
       "           1       16\n",
       "           2       12\n",
       "           3       23\n",
       "2017-12-13 0       19\n",
       "           1       14\n",
       "           2       11\n",
       "           3       21\n",
       "2018-01-31 0       16\n",
       "           1       14\n",
       "           2        9\n",
       "           3       21\n",
       "\n",
       "[688 rows x 1 columns]"
      ]
     },
     "execution_count": 107,
     "metadata": {},
     "output_type": "execute_result"
    }
   ],
   "source": [
    "dft"
   ]
  },
  {
   "cell_type": "code",
   "execution_count": 110,
   "metadata": {},
   "outputs": [
    {
     "data": {
      "text/html": [
       "<div>\n",
       "<style>\n",
       "    .dataframe thead tr:only-child th {\n",
       "        text-align: right;\n",
       "    }\n",
       "\n",
       "    .dataframe thead th {\n",
       "        text-align: left;\n",
       "    }\n",
       "\n",
       "    .dataframe tbody tr th {\n",
       "        vertical-align: top;\n",
       "    }\n",
       "</style>\n",
       "<table border=\"1\" class=\"dataframe\">\n",
       "  <thead>\n",
       "    <tr style=\"text-align: right;\">\n",
       "      <th></th>\n",
       "      <th>count</th>\n",
       "      <th>mean</th>\n",
       "      <th>std</th>\n",
       "      <th>min</th>\n",
       "      <th>25%</th>\n",
       "      <th>50%</th>\n",
       "      <th>75%</th>\n",
       "      <th>max</th>\n",
       "    </tr>\n",
       "    <tr>\n",
       "      <th>topic</th>\n",
       "      <th></th>\n",
       "      <th></th>\n",
       "      <th></th>\n",
       "      <th></th>\n",
       "      <th></th>\n",
       "      <th></th>\n",
       "      <th></th>\n",
       "      <th></th>\n",
       "    </tr>\n",
       "  </thead>\n",
       "  <tbody>\n",
       "    <tr>\n",
       "      <th>0</th>\n",
       "      <td>174.0</td>\n",
       "      <td>26.752874</td>\n",
       "      <td>22.715172</td>\n",
       "      <td>2.0</td>\n",
       "      <td>14.00</td>\n",
       "      <td>19.0</td>\n",
       "      <td>29.00</td>\n",
       "      <td>98.0</td>\n",
       "    </tr>\n",
       "    <tr>\n",
       "      <th>1</th>\n",
       "      <td>172.0</td>\n",
       "      <td>21.046512</td>\n",
       "      <td>20.879441</td>\n",
       "      <td>1.0</td>\n",
       "      <td>9.00</td>\n",
       "      <td>13.0</td>\n",
       "      <td>24.75</td>\n",
       "      <td>121.0</td>\n",
       "    </tr>\n",
       "    <tr>\n",
       "      <th>2</th>\n",
       "      <td>168.0</td>\n",
       "      <td>17.648810</td>\n",
       "      <td>14.338149</td>\n",
       "      <td>2.0</td>\n",
       "      <td>9.75</td>\n",
       "      <td>13.0</td>\n",
       "      <td>18.00</td>\n",
       "      <td>81.0</td>\n",
       "    </tr>\n",
       "    <tr>\n",
       "      <th>3</th>\n",
       "      <td>174.0</td>\n",
       "      <td>17.362069</td>\n",
       "      <td>11.489173</td>\n",
       "      <td>1.0</td>\n",
       "      <td>9.25</td>\n",
       "      <td>15.0</td>\n",
       "      <td>21.00</td>\n",
       "      <td>61.0</td>\n",
       "    </tr>\n",
       "  </tbody>\n",
       "</table>\n",
       "</div>"
      ],
      "text/plain": [
       "       count       mean        std  min    25%   50%    75%    max\n",
       "topic                                                             \n",
       "0      174.0  26.752874  22.715172  2.0  14.00  19.0  29.00   98.0\n",
       "1      172.0  21.046512  20.879441  1.0   9.00  13.0  24.75  121.0\n",
       "2      168.0  17.648810  14.338149  2.0   9.75  13.0  18.00   81.0\n",
       "3      174.0  17.362069  11.489173  1.0   9.25  15.0  21.00   61.0"
      ]
     },
     "execution_count": 110,
     "metadata": {},
     "output_type": "execute_result"
    }
   ],
   "source": [
    "dft.groupby('topic')['stm'].describe()"
   ]
  },
  {
   "cell_type": "code",
   "execution_count": null,
   "metadata": {
    "collapsed": true
   },
   "outputs": [],
   "source": []
  }
 ],
 "metadata": {
  "kernelspec": {
   "display_name": "Python 3",
   "language": "python",
   "name": "python3"
  },
  "language_info": {
   "codemirror_mode": {
    "name": "ipython",
    "version": 3
   },
   "file_extension": ".py",
   "mimetype": "text/x-python",
   "name": "python",
   "nbconvert_exporter": "python",
   "pygments_lexer": "ipython3",
   "version": "3.6.3"
  }
 },
 "nbformat": 4,
 "nbformat_minor": 2
}
